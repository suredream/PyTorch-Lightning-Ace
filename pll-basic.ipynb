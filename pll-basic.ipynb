{
  "nbformat": 4,
  "nbformat_minor": 0,
  "metadata": {
    "colab": {
      "name": "Untitled",
      "provenance": [],
      "collapsed_sections": [],
      "authorship_tag": "ABX9TyOmjkt3mdfV9Rqm5vuge11q",
      "include_colab_link": true
    },
    "kernelspec": {
      "name": "python3",
      "display_name": "Python 3"
    },
    "language_info": {
      "name": "python"
    }
  },
  "cells": [
    {
      "cell_type": "markdown",
      "metadata": {
        "id": "view-in-github",
        "colab_type": "text"
      },
      "source": [
        "<a href=\"https://colab.research.google.com/github/suredream/PyTorch-Lightning-Ace/blob/main/pll-basic.ipynb\" target=\"_parent\"><img src=\"https://colab.research.google.com/assets/colab-badge.svg\" alt=\"Open In Colab\"/></a>"
      ]
    },
    {
      "cell_type": "code",
      "source": [
        "\"\"\"\n",
        "resnet\n",
        "Instance Segmentation of Agricultural Fields\n",
        "delineate agricultural field parcels from satellite images via deep learning instance segmentation\n",
        "\n",
        "fully convolutional instance segmentation architecture\n",
        "\n",
        "rgb, sentinel-2, \n",
        "model unet\n",
        "dataset \n",
        "\n",
        "experiments\n",
        "\n",
        "\n",
        "## Concepts\n",
        "Instance Segmentation\n",
        "Semantic Segmentation\n",
        "\n",
        "## Reference\n",
        "- https://github.com/chrieke/InstanceSegmentation_Sentinel2\n",
        "- https://github.com/waldnerf/decode mxnet no pre-trained weights\n",
        "- https://rising.readthedocs.io/en/stable/lightning_segmentation.html\n",
        "- https://colab.research.google.com/github/fepegar/torchio-notebooks/blob/main/notebooks/TorchIO_MONAI_PyTorch_Lightning.ipynb#scrollTo=XcdPOVf7WbyQ\n",
        "\"\"\""
      ],
      "metadata": {
        "id": "Sxz_U0R7MxDT"
      },
      "execution_count": null,
      "outputs": []
    },
    {
      "cell_type": "code",
      "source": [
        "%reload_ext autoreload\n",
        "%autoreload 2\n",
        "%matplotlib inline"
      ],
      "metadata": {
        "id": "_9pDiF3uPTFN"
      },
      "execution_count": null,
      "outputs": []
    },
    {
      "cell_type": "code",
      "execution_count": null,
      "metadata": {
        "colab": {
          "base_uri": "https://localhost:8080/"
        },
        "id": "lthenoxH0OCT",
        "outputId": "4bdbd092-6302-434c-f292-69883bd0c01e"
      },
      "outputs": [
        {
          "output_type": "stream",
          "name": "stdout",
          "text": [
            "\u001b[?25l\r\u001b[K     |█                               | 10 kB 16.8 MB/s eta 0:00:01\r\u001b[K     |██                              | 20 kB 17.9 MB/s eta 0:00:01\r\u001b[K     |███                             | 30 kB 11.2 MB/s eta 0:00:01\r\u001b[K     |████▏                           | 40 kB 9.1 MB/s eta 0:00:01\r\u001b[K     |█████▏                          | 51 kB 4.3 MB/s eta 0:00:01\r\u001b[K     |██████▏                         | 61 kB 4.6 MB/s eta 0:00:01\r\u001b[K     |███████▎                        | 71 kB 5.2 MB/s eta 0:00:01\r\u001b[K     |████████▎                       | 81 kB 4.3 MB/s eta 0:00:01\r\u001b[K     |█████████▎                      | 92 kB 4.7 MB/s eta 0:00:01\r\u001b[K     |██████████▍                     | 102 kB 5.1 MB/s eta 0:00:01\r\u001b[K     |███████████▍                    | 112 kB 5.1 MB/s eta 0:00:01\r\u001b[K     |████████████▍                   | 122 kB 5.1 MB/s eta 0:00:01\r\u001b[K     |█████████████▌                  | 133 kB 5.1 MB/s eta 0:00:01\r\u001b[K     |██████████████▌                 | 143 kB 5.1 MB/s eta 0:00:01\r\u001b[K     |███████████████▌                | 153 kB 5.1 MB/s eta 0:00:01\r\u001b[K     |████████████████▌               | 163 kB 5.1 MB/s eta 0:00:01\r\u001b[K     |█████████████████▋              | 174 kB 5.1 MB/s eta 0:00:01\r\u001b[K     |██████████████████▋             | 184 kB 5.1 MB/s eta 0:00:01\r\u001b[K     |███████████████████▋            | 194 kB 5.1 MB/s eta 0:00:01\r\u001b[K     |████████████████████▊           | 204 kB 5.1 MB/s eta 0:00:01\r\u001b[K     |█████████████████████▊          | 215 kB 5.1 MB/s eta 0:00:01\r\u001b[K     |██████████████████████▊         | 225 kB 5.1 MB/s eta 0:00:01\r\u001b[K     |███████████████████████▉        | 235 kB 5.1 MB/s eta 0:00:01\r\u001b[K     |████████████████████████▉       | 245 kB 5.1 MB/s eta 0:00:01\r\u001b[K     |█████████████████████████▉      | 256 kB 5.1 MB/s eta 0:00:01\r\u001b[K     |███████████████████████████     | 266 kB 5.1 MB/s eta 0:00:01\r\u001b[K     |████████████████████████████    | 276 kB 5.1 MB/s eta 0:00:01\r\u001b[K     |█████████████████████████████   | 286 kB 5.1 MB/s eta 0:00:01\r\u001b[K     |██████████████████████████████  | 296 kB 5.1 MB/s eta 0:00:01\r\u001b[K     |███████████████████████████████ | 307 kB 5.1 MB/s eta 0:00:01\r\u001b[K     |████████████████████████████████| 316 kB 5.1 MB/s \n",
            "\u001b[?25hThe tensorboard extension is already loaded. To reload it, use:\n",
            "  %reload_ext tensorboard\n"
          ]
        }
      ],
      "source": [
        "# https://pytorch.org/tutorials/beginner/transfer_learning_tutorial.html\n",
        "!pip install -q pytorch_lightning lightning-bolts\n",
        "%load_ext tensorboard"
      ]
    },
    {
      "cell_type": "code",
      "source": [
        "!wget https://download.pytorch.org/tutorial/hymenoptera_data.zip\n",
        "!unzip hymenoptera_data.zip"
      ],
      "metadata": {
        "id": "6P6gDu821x1U"
      },
      "execution_count": null,
      "outputs": []
    },
    {
      "cell_type": "code",
      "source": [
        "import pytorch_lightning as pl\n",
        "import pl_bolts\n",
        "\n",
        "print(f\"pl version: {pl.__version__}\")\n",
        "print(f\"pl_bolts version: {pl_bolts.__version__}\")"
      ],
      "metadata": {
        "colab": {
          "base_uri": "https://localhost:8080/"
        },
        "id": "ZDhD5_H95Kuw",
        "outputId": "fb9f035d-6bf6-4a88-d2f2-425c4e89e180"
      },
      "execution_count": null,
      "outputs": [
        {
          "output_type": "stream",
          "name": "stdout",
          "text": [
            "pl version: 1.6.4\n",
            "pl_bolts version: 0.5.0\n"
          ]
        }
      ]
    },
    {
      "cell_type": "code",
      "source": [
        "import torch\n",
        "import torch.nn as nn\n",
        "import torch.optim as optim\n",
        "from torch.optim import lr_scheduler\n",
        "import torch.backends.cudnn as cudnn\n",
        "import torchvision\n",
        "from torchvision import datasets, models, transforms\n",
        "import pytorch_lightning as pl\n",
        "from pytorch_lightning.callbacks import Callback\n",
        "\n",
        "\n",
        "import matplotlib.pyplot as plt\n",
        "import numpy as np\n",
        "import time\n",
        "import os\n",
        "import copy"
      ],
      "metadata": {
        "id": "WiwXVNms12HD"
      },
      "execution_count": null,
      "outputs": []
    },
    {
      "cell_type": "code",
      "source": [
        "# Data augmentation and normalization for training\n",
        "# Just normalization for validation\n",
        "data_transforms = {\n",
        "    'train': transforms.Compose([\n",
        "        transforms.RandomResizedCrop(224),\n",
        "        transforms.RandomHorizontalFlip(),\n",
        "        transforms.ToTensor(),\n",
        "        transforms.Normalize([0.485, 0.456, 0.406], [0.229, 0.224, 0.225])\n",
        "    ]),\n",
        "    'val': transforms.Compose([\n",
        "        transforms.Resize(256),\n",
        "        transforms.CenterCrop(224),\n",
        "        transforms.ToTensor(),\n",
        "        transforms.Normalize([0.485, 0.456, 0.406], [0.229, 0.224, 0.225])\n",
        "    ]),\n",
        "}\n",
        "\n",
        "data_dir = 'hymenoptera_data'\n",
        "image_datasets = {x: datasets.ImageFolder(os.path.join(data_dir, x),\n",
        "                                          data_transforms[x])\n",
        "                  for x in ['train', 'val']}\n",
        "dataloaders = {x: torch.utils.data.DataLoader(image_datasets[x], batch_size=4,\n",
        "                                             shuffle=True, num_workers=2)\n",
        "              for x in ['train', 'val']}\n",
        "dataset_sizes = {x: len(image_datasets[x]) for x in ['train', 'val']}\n",
        "class_names = image_datasets['train'].classes\n",
        "\n",
        "device = torch.device(\"cuda:0\" if torch.cuda.is_available() else \"cpu\")"
      ],
      "metadata": {
        "id": "moUbkbCz17Ta"
      },
      "execution_count": null,
      "outputs": []
    },
    {
      "cell_type": "code",
      "source": [
        "class CustomModel(pl.LightningModule):\n",
        "    def __init__(self):\n",
        "        super().__init__()\n",
        "        self.model = models.resnet18(pretrained=True)\n",
        "        # https://stackoverflow.com/questions/66000358/how-to-strip-a-pretrained-network-and-add-some-layers-to-it-using-pytorch-lightn\n",
        "        \n",
        "    def forward(self,x):\n",
        "        in_size = x.size(0)\n",
        "        out = self.conv1(x)\n",
        "        out = F.relu(out)\n",
        "        out = F.max_pool2d(out, 2, 2)\n",
        "        out = self.conv2(out)\n",
        "        out = F.relu(out)\n",
        "        out = out.view(in_size, -1)\n",
        "        out = self.fc1(out)\n",
        "        out = F.relu(out)\n",
        "        out = self.fc2(out)\n",
        "        out = F.log_softmax(out, dim=1)\n",
        "        return out\n",
        "    \n",
        "    def training_step(self, batch, idx):\n",
        "        x, y = batch\n",
        "        _y = self(x)\n",
        "        # 计算loss\n",
        "        loss = self.train_criterion(_y, y)\n",
        "        # 更新结果\n",
        "        self.train_metric.update(_y, y)\n",
        "        return loss\n",
        "\n",
        "    def training_epoch_end(self, outs):\n",
        "        # 计算平均loss\n",
        "        loss = 0.\n",
        "        for out in outs:\n",
        "            loss += out[\"loss\"].cpu().detach().item()\n",
        "        loss /= len(outs)\n",
        "        # 计算指标\n",
        "        acc, f1 = self.train_metric.compute()\n",
        "        # 记录log\n",
        "        self.history[\"loss/train\"].append(loss)\n",
        "        self.history[\"acc/train\"].append(acc)\n",
        "        self.history[\"f1/train\"].append(f1)\n",
        "\n",
        "    def validation_step(self, batch, idx):\n",
        "        x, y = batch\n",
        "        _y = self(x)\n",
        "        val_loss = self.val_criterion(_y, y)\n",
        "        self.val_metric.update(_y, y)\n",
        "        return val_loss\n",
        "\n",
        "    def validation_epoch_end(self, outs):\n",
        "        val_loss = sum(outs).item() / len(outs)\n",
        "        val_acc, val_f1 = self.val_metric.compute()\n",
        "\n",
        "        self.history[\"loss/test\"].append(val_loss)\n",
        "        self.history[\"acc/test\"].append(val_acc)\n",
        "        self.history[\"f1/test\"].append(val_f1)\n",
        "\n",
        "    def configure_optimizers(self):\n",
        "        # 设置优化器\n",
        "        return Adam(self.parameters())\n",
        "\n",
        "model = CustomModel()"
      ],
      "metadata": {
        "id": "DM60_TXD2FFs"
      },
      "execution_count": null,
      "outputs": []
    },
    {
      "cell_type": "code",
      "source": [
        ""
      ],
      "metadata": {
        "id": "-WP_Z4u45KFX"
      },
      "execution_count": null,
      "outputs": []
    }
  ]
}