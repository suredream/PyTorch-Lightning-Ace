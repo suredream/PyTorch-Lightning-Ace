{
  "nbformat": 4,
  "nbformat_minor": 0,
  "metadata": {
    "colab": {
      "name": "Untitled0.ipynb",
      "provenance": [],
      "collapsed_sections": [],
      "mount_file_id": "1gIn11hUQt9gIcjvsEDD4PWx_NAsgPiAU",
      "authorship_tag": "ABX9TyMGYvHEUcYoU6eZdjvaf5ki",
      "include_colab_link": true
    },
    "kernelspec": {
      "name": "python3",
      "display_name": "Python 3"
    },
    "language_info": {
      "name": "python"
    },
    "accelerator": "GPU",
    "gpuClass": "standard"
  },
  "cells": [
    {
      "cell_type": "markdown",
      "metadata": {
        "id": "view-in-github",
        "colab_type": "text"
      },
      "source": [
        "<a href=\"https://colab.research.google.com/github/suredream/PyTorch-Lightning-Ace/blob/main/pll-empty.ipynb\" target=\"_parent\"><img src=\"https://colab.research.google.com/assets/colab-badge.svg\" alt=\"Open In Colab\"/></a>"
      ]
    },
    {
      "cell_type": "code",
      "source": [
        "%load_ext autoreload\n",
        "%autoreload 2\n",
        "\n",
        "# install dependency & watermask\n",
        "# !pip install -q pytorch-lightning\n",
        "!pip list | grep \"pytorch-lightning\\|torch\"\n",
        "\n",
        "# mount drive\n",
        "import sys; sys.path.append('/content/drive/MyDrive/lab')\n",
        "%load_ext lab\n",
        "\n",
        "# install kaggle if needed\n",
        "# !mkdir -p ~/.kaggle\n",
        "# !cp /content/drive/MyDrive/lab/kaggle.json ~/.kaggle\n",
        "# !chmod 600 ~/.kaggle/kaggle.json\n",
        "# !pip install -q kaggle \n",
        "\n",
        "# !kaggle datasets download ardamavi/sign-language-digits-dataset\n",
        "# !unzip sign-language-digits-dataset.zip -d sign-language-digits-dataset > /dev/null"
      ],
      "metadata": {
        "colab": {
          "base_uri": "https://localhost:8080/"
        },
        "id": "v9nerjXINTxx",
        "outputId": "a63785e7-91e4-463c-cad2-7056eac57509"
      },
      "execution_count": 1,
      "outputs": [
        {
          "output_type": "stream",
          "name": "stdout",
          "text": [
            "pytorch-lightning             1.6.2\n",
            "torch                         1.11.0+cu113\n",
            "torchaudio                    0.11.0+cu113\n",
            "torchmetrics                  0.9.1\n",
            "torchsummary                  1.5.1\n",
            "torchtext                     0.12.0\n",
            "torchvision                   0.12.0+cu113\n"
          ]
        }
      ]
    }
  ]
}