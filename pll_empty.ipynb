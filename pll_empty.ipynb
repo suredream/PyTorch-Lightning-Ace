{
  "nbformat": 4,
  "nbformat_minor": 0,
  "metadata": {
    "colab": {
      "name": "pll-empty.ipynb",
      "provenance": [],
      "collapsed_sections": [],
      "mount_file_id": "1gIn11hUQt9gIcjvsEDD4PWx_NAsgPiAU",
      "authorship_tag": "ABX9TyOjgen+6tOZZOUnA70OZ08y",
      "include_colab_link": true
    },
    "kernelspec": {
      "name": "python3",
      "display_name": "Python 3"
    },
    "language_info": {
      "name": "python"
    },
    "accelerator": "GPU",
    "gpuClass": "standard"
  },
  "cells": [
    {
      "cell_type": "markdown",
      "metadata": {
        "id": "view-in-github",
        "colab_type": "text"
      },
      "source": [
        "<a href=\"https://colab.research.google.com/github/suredream/PyTorch-Lightning-Ace/blob/main/pll_empty.ipynb\" target=\"_parent\"><img src=\"https://colab.research.google.com/assets/colab-badge.svg\" alt=\"Open In Colab\"/></a>"
      ]
    },
    {
      "cell_type": "code",
      "source": [
        "%load_ext autoreload\n",
        "%autoreload 2\n",
        "\n",
        "# install dependency & watermask\n",
        "# !pip install -q pytorch-lightning\n",
        "!pip list | grep \"pytorch-lightning\\|torch\"\n",
        "\n",
        "# mount drive\n",
        "root_dir = '/content/drive/MyDrive/lab/'\n",
        "import sys; sys.path.append(root_dir+'scripts')\n",
        "%load_ext lab\n",
        "\n",
        "\n",
        "\n",
        "# install kaggle if needed\n",
        "!mkdir -p ~/.kaggle\n",
        "!cp /content/drive/MyDrive/lab/scripts/kaggle.json ~/.kaggle\n",
        "!chmod 600 ~/.kaggle/kaggle.json\n",
        "!pip install -q kaggle \n",
        "\n",
        "# !kaggle datasets download ardamavi/sign-language-digits-dataset\n",
        "# !unzip sign-language-digits-dataset.zip -d sign-language-digits-dataset > /dev/null"
      ],
      "metadata": {
        "colab": {
          "base_uri": "https://localhost:8080/"
        },
        "id": "v9nerjXINTxx",
        "outputId": "1efddb7a-a064-497d-8aed-5687dbc05a8e"
      },
      "execution_count": 3,
      "outputs": [
        {
          "output_type": "stream",
          "name": "stdout",
          "text": [
            "The autoreload extension is already loaded. To reload it, use:\n",
            "  %reload_ext autoreload\n",
            "pytorch-lightning             1.6.2\n",
            "torch                         1.11.0+cu113\n",
            "torchaudio                    0.11.0+cu113\n",
            "torchmetrics                  0.9.1\n",
            "torchsummary                  1.5.1\n",
            "torchtext                     0.12.0\n",
            "torchvision                   0.12.0+cu113\n",
            "The lab extension is already loaded. To reload it, use:\n",
            "  %reload_ext lab\n"
          ]
        }
      ]
    },
    {
      "cell_type": "code",
      "source": [
        "# experiment set-up\n",
        "import os\n",
        "expr_name = 'cnn-sign-digits'\n",
        "logdir = root_dir + 'logs/' + expr_name\n",
        "assert os.path.exists(root_dir+'logs')"
      ],
      "metadata": {
        "id": "5euFCD3fVZ0h"
      },
      "execution_count": 7,
      "outputs": []
    },
    {
      "cell_type": "code",
      "source": [
        "%load_ext tensorboard\n",
        "%tensorboard --logdir $logdir"
      ],
      "metadata": {
        "id": "X_F8qeFxVPyM"
      },
      "execution_count": null,
      "outputs": []
    },
    {
      "cell_type": "code",
      "source": [
        "import fastai"
      ],
      "metadata": {
        "colab": {
          "base_uri": "https://localhost:8080/",
          "height": 311
        },
        "id": "wEU7Fe0ZWR2N",
        "outputId": "b7fb9ce1-67fa-4696-d3ff-e500163b911b"
      },
      "execution_count": 1,
      "outputs": [
        {
          "output_type": "error",
          "ename": "ModuleNotFoundError",
          "evalue": "ignored",
          "traceback": [
            "\u001b[0;31m---------------------------------------------------------------------------\u001b[0m",
            "\u001b[0;31mModuleNotFoundError\u001b[0m                       Traceback (most recent call last)",
            "\u001b[0;32m<ipython-input-1-4dc6b302443c>\u001b[0m in \u001b[0;36m<module>\u001b[0;34m()\u001b[0m\n\u001b[0;32m----> 1\u001b[0;31m \u001b[0;32mimport\u001b[0m \u001b[0mfasiai\u001b[0m\u001b[0;34m\u001b[0m\u001b[0;34m\u001b[0m\u001b[0m\n\u001b[0m",
            "\u001b[0;31mModuleNotFoundError\u001b[0m: No module named 'fasiai'",
            "",
            "\u001b[0;31m---------------------------------------------------------------------------\u001b[0;32m\nNOTE: If your import is failing due to a missing package, you can\nmanually install dependencies using either !pip or !apt.\n\nTo view examples of installing some common dependencies, click the\n\"Open Examples\" button below.\n\u001b[0;31m---------------------------------------------------------------------------\u001b[0m\n"
          ],
          "errorDetails": {
            "actions": [
              {
                "action": "open_url",
                "actionText": "Open Examples",
                "url": "/notebooks/snippets/importing_libraries.ipynb"
              }
            ]
          }
        }
      ]
    },
    {
      "cell_type": "code",
      "source": [
        ""
      ],
      "metadata": {
        "id": "i4HJKPDBMEOv"
      },
      "execution_count": null,
      "outputs": []
    }
  ]
}