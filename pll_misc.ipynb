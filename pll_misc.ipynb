{
  "nbformat": 4,
  "nbformat_minor": 0,
  "metadata": {
    "colab": {
      "name": "pll-misc.ipynb",
      "provenance": [],
      "collapsed_sections": [],
      "mount_file_id": "1C0wySg_n68XPzI3Pm722E1p8fo9zhRlI",
      "authorship_tag": "ABX9TyPWcwO8gqwVQkk+MO6j104p",
      "include_colab_link": true
    },
    "kernelspec": {
      "name": "python3",
      "display_name": "Python 3"
    },
    "language_info": {
      "name": "python"
    },
    "gpuClass": "standard"
  },
  "cells": [
    {
      "cell_type": "markdown",
      "metadata": {
        "id": "view-in-github",
        "colab_type": "text"
      },
      "source": [
        "<a href=\"https://colab.research.google.com/github/suredream/PyTorch-Lightning-Ace/blob/main/pll_misc.ipynb\" target=\"_parent\"><img src=\"https://colab.research.google.com/assets/colab-badge.svg\" alt=\"Open In Colab\"/></a>"
      ]
    },
    {
      "cell_type": "code",
      "source": [
        "%load_ext autoreload\n",
        "%autoreload 2"
      ],
      "metadata": {
        "colab": {
          "base_uri": "https://localhost:8080/"
        },
        "id": "sHzLrJ8Ofeu_",
        "outputId": "a11c663c-8bcb-45eb-ff0e-73283c81092f"
      },
      "execution_count": null,
      "outputs": [
        {
          "output_type": "stream",
          "name": "stdout",
          "text": [
            "The autoreload extension is already loaded. To reload it, use:\n",
            "  %reload_ext autoreload\n",
            "git config --global user.email \"junxiong360@gmail.com\" && git config --global user.name \"Jun Xiong\"\n"
          ]
        }
      ]
    },
    {
      "cell_type": "code",
      "source": [
        "import sys\n",
        "sys.path.append('/content/drive/MyDrive/utils')\n",
        "%reload_ext git"
      ],
      "metadata": {
        "id": "WqQzNyIrf_w4"
      },
      "execution_count": null,
      "outputs": []
    },
    {
      "cell_type": "code",
      "execution_count": null,
      "metadata": {
        "id": "Rd49l_s3FWs3"
      },
      "outputs": [],
      "source": [
        "import torch\n",
        "import torchvision\n",
        "from torch.utils.tensorboard import SummaryWriter\n",
        "from torchvision import datasets, transforms"
      ]
    },
    {
      "cell_type": "code",
      "source": [
        "%d sys fl -n 2"
      ],
      "metadata": {
        "colab": {
          "base_uri": "https://localhost:8080/"
        },
        "id": "Qjcl-U4FgIRw",
        "outputId": "14cd2b7e-cc67-4798-b91d-f7e8a86ea08e"
      },
      "execution_count": null,
      "outputs": [
        {
          "output_type": "stream",
          "name": "stdout",
          "text": [
            "abiflags          flags             float_info        float_repr_style  getdlopenflags    setdlopenflags    \n"
          ]
        }
      ]
    }
  ]
}